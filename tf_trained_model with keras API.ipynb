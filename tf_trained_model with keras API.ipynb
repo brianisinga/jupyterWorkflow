{
  "nbformat": 4,
  "nbformat_minor": 0,
  "metadata": {
    "colab": {
      "provenance": [],
      "authorship_tag": "ABX9TyM3nczlu5HkE8VUdsEePIHW",
      "include_colab_link": true
    },
    "kernelspec": {
      "name": "python3",
      "display_name": "Python 3"
    },
    "language_info": {
      "name": "python"
    }
  },
  "cells": [
    {
      "cell_type": "markdown",
      "metadata": {
        "id": "view-in-github",
        "colab_type": "text"
      },
      "source": [
        "<a href=\"https://colab.research.google.com/github/brianisinga/jupyterWorkflow/blob/main/tf_trained_model%20with%20keras%20API.ipynb\" target=\"_parent\"><img src=\"https://colab.research.google.com/assets/colab-badge.svg\" alt=\"Open In Colab\"/></a>"
      ]
    },
    {
      "cell_type": "code",
      "execution_count": 1,
      "metadata": {
        "id": "GXWaGY3ZR-xs"
      },
      "outputs": [],
      "source": [
        "import tensorflow as tf"
      ]
    },
    {
      "cell_type": "code",
      "source": [
        "print(tf.__version__)"
      ],
      "metadata": {
        "colab": {
          "base_uri": "https://localhost:8080/"
        },
        "id": "lHYQ9cz2Sehm",
        "outputId": "8dfc759c-5cbe-45f3-e75b-66d916189efc"
      },
      "execution_count": 2,
      "outputs": [
        {
          "output_type": "stream",
          "name": "stdout",
          "text": [
            "2.15.0\n"
          ]
        }
      ]
    },
    {
      "cell_type": "markdown",
      "source": [
        "**loading a dataset**"
      ],
      "metadata": {
        "id": "EaZZzHZhSs9F"
      }
    },
    {
      "cell_type": "code",
      "source": [
        "mnist = tf.keras.datasets.mnist\n",
        "(x_train, y_train), (x_test, y_test) = mnist.load_data()\n",
        "x_train, x_test = x_train/ 255.0, x_test /255.0"
      ],
      "metadata": {
        "colab": {
          "base_uri": "https://localhost:8080/"
        },
        "id": "YVxRkzggSwmA",
        "outputId": "1dceb978-54ca-4887-bd0f-42c698f7a982"
      },
      "execution_count": 5,
      "outputs": [
        {
          "output_type": "stream",
          "name": "stdout",
          "text": [
            "Downloading data from https://storage.googleapis.com/tensorflow/tf-keras-datasets/mnist.npz\n",
            "11490434/11490434 [==============================] - 1s 0us/step\n"
          ]
        }
      ]
    },
    {
      "cell_type": "code",
      "source": [],
      "metadata": {
        "id": "mwZ-XDbjUFKv"
      },
      "execution_count": null,
      "outputs": []
    },
    {
      "cell_type": "markdown",
      "source": [
        "**build a machine learning model**"
      ],
      "metadata": {
        "id": "Oz5FhP8MUkoa"
      }
    },
    {
      "cell_type": "code",
      "source": [
        "#build a tf.keras.Sequential model\n",
        "model = tf.keras.models.Sequential([\n",
        "    tf.keras.layers.Flatten(input_shape=(28, 28)),\n",
        "    tf.keras.layers.Dense(128, activation = \"relu\"),\n",
        "    tf.keras.layers.Dropout(0.2),\n",
        "    tf.keras.layers.Dense(10)\n",
        "])"
      ],
      "metadata": {
        "id": "7xPgCzwIUmC4"
      },
      "execution_count": 7,
      "outputs": []
    },
    {
      "cell_type": "code",
      "source": [
        "predictions = model(x_train[:1]).numpy()\n",
        "predictions"
      ],
      "metadata": {
        "colab": {
          "base_uri": "https://localhost:8080/"
        },
        "id": "RAMzv8yYai57",
        "outputId": "ebcb8328-fe76-4315-f6ad-def1183dd3ff"
      },
      "execution_count": 10,
      "outputs": [
        {
          "output_type": "execute_result",
          "data": {
            "text/plain": [
              "array([[-0.22667192,  0.04126984, -0.20580553,  0.0593311 ,  0.5056819 ,\n",
              "         0.21814534,  0.38510597,  0.0015454 ,  0.14911684, -0.643508  ]],\n",
              "      dtype=float32)"
            ]
          },
          "metadata": {},
          "execution_count": 10
        }
      ]
    },
    {
      "cell_type": "code",
      "source": [],
      "metadata": {
        "id": "wD2_acEoaiBx"
      },
      "execution_count": null,
      "outputs": []
    },
    {
      "cell_type": "markdown",
      "source": [
        "**tf.softmax** *function converts these logits to probabilities for each class*"
      ],
      "metadata": {
        "id": "mB5R-TTRdELp"
      }
    },
    {
      "cell_type": "code",
      "source": [
        "tf.nn.softmax(predictions).numpy()"
      ],
      "metadata": {
        "colab": {
          "base_uri": "https://localhost:8080/"
        },
        "id": "PZ7RfiTCdXJb",
        "outputId": "7b0ac08b-7916-4a4c-d45a-b603cc1910db"
      },
      "execution_count": 11,
      "outputs": [
        {
          "output_type": "execute_result",
          "data": {
            "text/plain": [
              "array([[0.07399207, 0.09672768, 0.07555223, 0.09849057, 0.15390132,\n",
              "        0.1154428 , 0.13641964, 0.09296055, 0.10774276, 0.04877031]],\n",
              "      dtype=float32)"
            ]
          },
          "metadata": {},
          "execution_count": 11
        }
      ]
    },
    {
      "cell_type": "code",
      "source": [],
      "metadata": {
        "id": "YD5Kr5SgdzDc"
      },
      "execution_count": null,
      "outputs": []
    },
    {
      "cell_type": "markdown",
      "source": [
        "*define a loss function for training using* **losses.SparseCategoricalCrossentropy**"
      ],
      "metadata": {
        "id": "8ASEl53UeHHR"
      }
    },
    {
      "cell_type": "code",
      "source": [
        "loss_fn = tf.keras.losses.SparseCategoricalCrossentropy(from_logits=True)"
      ],
      "metadata": {
        "id": "7zlo_8dBen6J"
      },
      "execution_count": 12,
      "outputs": []
    },
    {
      "cell_type": "code",
      "source": [
        "-tf.math.log(1/10).numpy()"
      ],
      "metadata": {
        "colab": {
          "base_uri": "https://localhost:8080/"
        },
        "id": "sQnzPNhDfTi3",
        "outputId": "651fe169-51dc-4dc9-f6d4-f831869a325a"
      },
      "execution_count": 15,
      "outputs": [
        {
          "output_type": "execute_result",
          "data": {
            "text/plain": [
              "2.3025851"
            ]
          },
          "metadata": {},
          "execution_count": 15
        }
      ]
    },
    {
      "cell_type": "code",
      "source": [
        "model.compile(optimizer='adam',\n",
        "              loss=loss_fn,\n",
        "              metrics = ['accuracy'])"
      ],
      "metadata": {
        "id": "3CR6We4Kfgxc"
      },
      "execution_count": 19,
      "outputs": []
    },
    {
      "cell_type": "code",
      "source": [],
      "metadata": {
        "id": "837D2M6VgUfN"
      },
      "execution_count": 19,
      "outputs": []
    },
    {
      "cell_type": "markdown",
      "source": [
        "**Train aand evaluate your model**"
      ],
      "metadata": {
        "id": "nL2Wyg8wgvMD"
      }
    },
    {
      "cell_type": "code",
      "source": [
        "model.fit(x_train, y_train, epochs=5)"
      ],
      "metadata": {
        "colab": {
          "base_uri": "https://localhost:8080/"
        },
        "id": "FWc5Hf1dg2VH",
        "outputId": "b7565e83-6a5c-49ee-b5d3-963e75fc18e5"
      },
      "execution_count": 20,
      "outputs": [
        {
          "output_type": "stream",
          "name": "stdout",
          "text": [
            "Epoch 1/5\n",
            "1875/1875 [==============================] - 8s 4ms/step - loss: 0.2948 - accuracy: 0.9142\n",
            "Epoch 2/5\n",
            "1875/1875 [==============================] - 7s 4ms/step - loss: 0.1466 - accuracy: 0.9562\n",
            "Epoch 3/5\n",
            "1875/1875 [==============================] - 7s 4ms/step - loss: 0.1087 - accuracy: 0.9669\n",
            "Epoch 4/5\n",
            "1875/1875 [==============================] - 8s 4ms/step - loss: 0.0875 - accuracy: 0.9730\n",
            "Epoch 5/5\n",
            "1875/1875 [==============================] - 8s 4ms/step - loss: 0.0778 - accuracy: 0.9747\n"
          ]
        },
        {
          "output_type": "execute_result",
          "data": {
            "text/plain": [
              "<keras.src.callbacks.History at 0x7ca486d31870>"
            ]
          },
          "metadata": {},
          "execution_count": 20
        }
      ]
    },
    {
      "cell_type": "code",
      "source": [
        "model.evaluate(x_test, y_test, verbose = 2)"
      ],
      "metadata": {
        "colab": {
          "base_uri": "https://localhost:8080/"
        },
        "id": "D4yfyxdvhISL",
        "outputId": "8e79ca97-aee9-4e10-a3de-7b3c3371917c"
      },
      "execution_count": 21,
      "outputs": [
        {
          "output_type": "stream",
          "name": "stdout",
          "text": [
            "313/313 - 1s - loss: 0.0825 - accuracy: 0.9747 - 691ms/epoch - 2ms/step\n"
          ]
        },
        {
          "output_type": "execute_result",
          "data": {
            "text/plain": [
              "[0.08248909562826157, 0.9746999740600586]"
            ]
          },
          "metadata": {},
          "execution_count": 21
        }
      ]
    },
    {
      "cell_type": "markdown",
      "source": [
        "**If you want your model to return a probability, you can wrap the trained model, and attach the softmax to it:**"
      ],
      "metadata": {
        "id": "DjnSJXX7kq8t"
      }
    },
    {
      "cell_type": "code",
      "source": [
        "probability_model = tf.keras.Sequential([model,tf.keras.layers.Softmax()])"
      ],
      "metadata": {
        "id": "ytpBUaQ0kBG3"
      },
      "execution_count": 22,
      "outputs": []
    },
    {
      "cell_type": "code",
      "source": [
        "probability_model(x_test[:5])"
      ],
      "metadata": {
        "colab": {
          "base_uri": "https://localhost:8080/"
        },
        "id": "q3Xj9hmNlHh5",
        "outputId": "b3cd6f05-8a3e-4652-c0bc-bce8435bc649"
      },
      "execution_count": 23,
      "outputs": [
        {
          "output_type": "execute_result",
          "data": {
            "text/plain": [
              "<tf.Tensor: shape=(5, 10), dtype=float32, numpy=\n",
              "array([[5.7107332e-08, 1.1540234e-09, 4.1842304e-06, 3.4792125e-04,\n",
              "        1.2130416e-10, 3.8889576e-07, 3.9359317e-15, 9.9963760e-01,\n",
              "        3.3643819e-06, 6.4449091e-06],\n",
              "       [6.8253501e-09, 3.8181082e-05, 9.9939334e-01, 5.6717760e-04,\n",
              "        8.3891363e-15, 4.5821491e-07, 2.2686375e-07, 3.6025306e-12,\n",
              "        6.4554661e-07, 3.6710844e-15],\n",
              "       [2.2201126e-08, 9.9762088e-01, 2.5430744e-04, 9.9388535e-06,\n",
              "        1.2387684e-05, 9.1230277e-07, 1.7864621e-05, 1.7630175e-03,\n",
              "        3.2030875e-04, 2.7827377e-07],\n",
              "       [9.9967861e-01, 1.0531469e-09, 7.5521100e-05, 6.2947635e-07,\n",
              "        3.4213630e-05, 2.0043952e-05, 1.3094502e-04, 3.3686440e-05,\n",
              "        9.8464220e-08, 2.6231874e-05],\n",
              "       [3.6712177e-07, 1.5474741e-11, 9.6268863e-08, 7.7317734e-09,\n",
              "        9.9813193e-01, 5.7689590e-07, 8.1002946e-07, 6.8573613e-06,\n",
              "        7.4344325e-07, 1.8585809e-03]], dtype=float32)>"
            ]
          },
          "metadata": {},
          "execution_count": 23
        }
      ]
    },
    {
      "cell_type": "code",
      "source": [],
      "metadata": {
        "id": "4JrNxUJflSG-"
      },
      "execution_count": null,
      "outputs": []
    }
  ]
}